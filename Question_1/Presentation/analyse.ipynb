{
 "cells": [
  {
   "cell_type": "code",
   "execution_count": 3,
   "id": "c67a6950-a19a-4f72-925a-aa357ef9e148",
   "metadata": {},
   "outputs": [
    {
     "name": "stdout",
     "output_type": "stream",
     "text": [
      "Average supermarket expense per customer: 182.06766666666667\n"
     ]
    }
   ],
   "source": [
    "import pandas as pd\n",
    "from monthly_expenses_generator import generate_monthly_expenses\n",
    "\n",
    "df = generate_monthly_expenses(100, 30)\n",
    "supermarket_transactions = df[df['category'] == 'market']\n",
    "total_expenses_per_customer = supermarket_transactions.groupby('customer_id')['amount'].sum()\n",
    "average_supermarket_expense_per_customer = total_expenses_per_customer.mean()\n",
    "print(\"Average supermarket expense per customer:\", average_supermarket_expense_per_customer)"
   ]
  },
  {
   "cell_type": "code",
   "execution_count": 1,
   "id": "746339b6-232a-4da8-9d4d-378662547618",
   "metadata": {},
   "outputs": [
    {
     "name": "stdout",
     "output_type": "stream",
     "text": [
      "Percentage of customers who spent in the 'market' category: 30.0 %\n"
     ]
    }
   ],
   "source": [
    "import pandas as pd\n",
    "from monthly_expenses_generator import generate_monthly_expenses\n",
    "\n",
    "df = generate_monthly_expenses(100, 30)\n",
    "market_transactions = df[df['category'] == 'market']\n",
    "customers_in_market = market_transactions['customer_id'].unique()\n",
    "total_customers = df['customer_id'].nunique()\n",
    "percentage_customers_in_market = len(customers_in_market) / total_customers * 100\n",
    "print(\"Percentage of customers who spent in the 'market' category:\", percentage_customers_in_market,\"%\")"
   ]
  },
  {
   "cell_type": "code",
   "execution_count": 6,
   "id": "f9dc9bf6-a177-474b-880f-eb00d403816a",
   "metadata": {},
   "outputs": [
    {
     "name": "stdout",
     "output_type": "stream",
     "text": [
      "                  customer_id   amount\n",
      "transaction_date                      \n",
      "2024-01-31               4185  5453.12\n"
     ]
    }
   ],
   "source": [
    "import pandas as pd\n",
    "from monthly_expenses_generator import generate_monthly_expenses\n",
    "df = generate_monthly_expenses(100, 30)\n",
    "df['transaction_date'] = pd.to_datetime(df['transaction_date'])\n",
    "supermarket_transactions = df[df['category'] == 'market']\n",
    "total_monthly_supermarket_transactions = supermarket_transactions.resample('M', on='transaction_date').sum(numeric_only = True)\n",
    "print(total_monthly_supermarket_transactions)"
   ]
  },
  {
   "cell_type": "code",
   "execution_count": null,
   "id": "8c43fcec-a265-4e34-a5f5-61c30f2d27eb",
   "metadata": {},
   "outputs": [],
   "source": [
    "# from monthly_expenses_generator import generate_monthly_expenses\n",
    "# import pandas as pd\n",
    "# import matplotlib.pyplot as plt\n",
    "# import seaborn as sns\n",
    "# from datetime import datetime\n",
    "\n",
    "\n",
    "# df = generate_monthly_expenses(100, 30)\n",
    "\n",
    "# # Convert birth_date and transaction_date to datetime\n",
    "# df['birth_date'] = pd.to_datetime(df['birth_date'])\n",
    "# df['transaction_date'] = pd.to_datetime(df['transaction_date'])\n",
    "\n",
    "# # 1. Total Expenses by Category\n",
    "# total_expenses_category = df.groupby('category')['amount'].sum().reset_index()\n",
    "# plt.figure(figsize=(10, 6))\n",
    "# sns.barplot(x='category', y='amount', data=total_expenses_category)\n",
    "# plt.title('Total Expenses by Category')\n",
    "# plt.xlabel('Category')\n",
    "# plt.ylabel('Total Expenses')\n",
    "# plt.show()\n",
    "\n",
    "# # 2. Most Expensive Subcategories\n",
    "# most_expensive_subcategories = df.groupby('subcategory')['amount'].sum().nlargest(5).reset_index()\n",
    "# plt.figure(figsize=(10, 6))\n",
    "# sns.barplot(x='amount', y='subcategory', data=most_expensive_subcategories)\n",
    "# plt.title('Top 5 Most Expensive Subcategories')\n",
    "# plt.xlabel('Total Expenses')\n",
    "# plt.ylabel('Subcategory')\n",
    "# plt.show()\n",
    "\n",
    "# # 3. Calculate transaction frequency for each part of the month\n",
    "\n",
    "# plt.figure(figsize=(10, 6))\n",
    "# early_month = df[df['transaction_date'].dt.day <= 10]['transaction_date'].dt.month.value_counts().sort_index()\n",
    "# mid_month = df[(df['transaction_date'].dt.day > 10) & (df['transaction_date'].dt.day <= 20)]['transaction_date'].dt.month.value_counts().sort_index()\n",
    "# late_month = df[df['transaction_date'].dt.day > 20]['transaction_date'].dt.month.value_counts().sort_index()\n",
    "# width = 0.25\n",
    "# plt.bar(early_month.index - width, early_month, width, label='Early Month')\n",
    "# plt.bar(mid_month.index, mid_month, width, label='Mid Month')\n",
    "# plt.bar(late_month.index + width, late_month, width, label='Late Month')\n",
    "# plt.title('Transaction Frequency Over Time (Divided by Month Parts)')\n",
    "# plt.xlabel('Month')\n",
    "# plt.ylabel('Frequency')\n",
    "# plt.xticks(early_month.index)\n",
    "# plt.legend()\n",
    "# plt.show()\n",
    "\n",
    "# # 4. Average Transaction Amount by Category\n",
    "# average_transaction_category = df.groupby('category')['amount'].mean().reset_index()\n",
    "# plt.figure(figsize=(10, 6))\n",
    "# sns.barplot(x='category', y='amount', data=average_transaction_category)\n",
    "# plt.title('Average Transaction Amount by Category')\n",
    "# plt.xlabel('Category')\n",
    "# plt.ylabel('Average Amount')\n",
    "# plt.show()\n",
    "\n",
    "# # 5. Distribution of Transaction Amounts\n",
    "# plt.figure(figsize=(10, 6))\n",
    "# sns.histplot(df['amount'], bins=20, kde=True)\n",
    "# plt.title('Distribution of Transaction Amounts')\n",
    "# plt.xlabel('Amount')\n",
    "# plt.ylabel('Frequency')\n",
    "# plt.show()\n",
    "\n",
    "# # 6. Customer Age Distribution\n",
    "# df['age'] = (datetime.now() - df['birth_date']).astype('<m8[Y]')\n",
    "# plt.figure(figsize=(10, 6))\n",
    "# sns.histplot(df['age'], bins=20, kde=True)\n",
    "# plt.title('Customer Age Distribution')\n",
    "# plt.xlabel('Age')\n",
    "# plt.ylabel('Frequency')\n",
    "# plt.show()\n",
    "\n",
    "# # 7. Most Visited Locations\n",
    "# most_visited_locations = df['location'].value_counts().reset_index()\n",
    "# plt.figure(figsize=(10, 6))\n",
    "# sns.barplot(x='index', y='location', data=most_visited_locations)\n",
    "# plt.title('Most Visited Locations')\n",
    "# plt.xlabel('Location')\n",
    "# plt.ylabel('Frequency')\n",
    "# plt.show()\n",
    "\n",
    "# # 8. Transaction Amounts vs. Birth Year\n",
    "# plt.figure(figsize=(10, 6))\n",
    "# sns.scatterplot(x='birth_date', y='amount', data=df)\n",
    "# plt.title('Transaction Amounts vs. Birth Year')\n",
    "# plt.xlabel('Birth Year')\n",
    "# plt.ylabel('Amount')\n",
    "# plt.show()\n",
    "\n",
    "# # 9. Transaction Amounts by Location\n",
    "# plt.figure(figsize=(10, 6))\n",
    "# sns.boxplot(x='location', y='amount', data=df)\n",
    "# plt.title('Transaction Amounts by Location')\n",
    "# plt.xlabel('Location')\n",
    "# plt.ylabel('Amount')\n",
    "# plt.show()\n",
    "\n",
    "# # 10. Calculate the average expenses\n",
    "# average_expenses_per_customer_category = df.groupby(['customer_id', 'category'])['amount'].mean().reset_index()\n",
    "# # average_expenses_category = df.groupby('category')['amount'].mean().reset_index()\n",
    "# plt.figure(figsize=(10, 6))\n",
    "# plt.bar(average_expenses_per_customer_category['category'], average_expenses_per_customer_category['amount'], color='skyblue')\n",
    "# plt.title('Average Expenses Per Customer by Category')\n",
    "# plt.xlabel('Category')\n",
    "# plt.ylabel('Average Expense')\n",
    "# plt.xticks(rotation=45, ha='right')\n",
    "# plt.tight_layout()\n",
    "# plt.show()\n",
    "\n",
    "# # 11. Average expenses per customer in supermarket category\n",
    "\n",
    "# market_transactions = df[df['category'] == 'market']\n",
    "# average_expense_per_customer_market = market_transactions.groupby('customer_id')['amount'].mean()\n",
    "# plt.figure(figsize=(10, 6))\n",
    "# plt.bar(average_expense_per_customer_market.index, average_expense_per_customer_market.values, color='skyblue')\n",
    "# plt.title('Average Expense in \"Market\" Category per Customer')\n",
    "# plt.xlabel('Customer ID')\n",
    "# plt.ylabel('Average Expense')\n",
    "# plt.xticks(rotation=45)\n",
    "# plt.tight_layout()\n",
    "# plt.show()"
   ]
  },
  {
   "cell_type": "code",
   "execution_count": null,
   "id": "96822784-6b97-4a15-a004-978b760ff464",
   "metadata": {},
   "outputs": [],
   "source": []
  }
 ],
 "metadata": {
  "kernelspec": {
   "display_name": "Python 3 (ipykernel)",
   "language": "python",
   "name": "python3"
  },
  "language_info": {
   "codemirror_mode": {
    "name": "ipython",
    "version": 3
   },
   "file_extension": ".py",
   "mimetype": "text/x-python",
   "name": "python",
   "nbconvert_exporter": "python",
   "pygments_lexer": "ipython3",
   "version": "3.10.9"
  }
 },
 "nbformat": 4,
 "nbformat_minor": 5
}
